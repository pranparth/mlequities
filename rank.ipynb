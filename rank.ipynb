{
 "cells": [
  {
   "cell_type": "code",
   "execution_count": 31,
   "metadata": {
    "_cell_guid": "51d0fcaf-bc00-a30f-ba2b-00fc9cc8c491",
    "_uuid": "23c15dfdfd63fe73e87e771c73500363adc7ff0c",
    "collapsed": true
   },
   "outputs": [],
   "source": [
    "#===================================================\n",
    "#\n",
    "# rank.ipynb: Ranks the functions in terms of  \n",
    "#             relevance to user portfolio\n",
    "#\n",
    "# Original: Vedaad Shakib (10/10/17)\n",
    "#===================================================\n",
    "\n",
    "import numpy as np \n",
    "import pandas as pd\n",
    "from IPython.core.display import display\n",
    "from datetime import datetime \n",
    "%run 'variance.ipynb'\n",
    "%run 'utils.ipynb'"
   ]
  },
  {
   "cell_type": "code",
   "execution_count": 32,
   "metadata": {
    "collapsed": true
   },
   "outputs": [],
   "source": [
    "# define user portfolio\n",
    "port = {\"AAPL\": 0.3, \"YHOO\": 0.6, \"MSFT\": 0.1}"
   ]
  },
  {
   "cell_type": "code",
   "execution_count": 33,
   "metadata": {
    "collapsed": true
   },
   "outputs": [],
   "source": [
    "# Load in financial data\n",
    "df = pd.read_csv(\"prices-split-adjusted.csv\")\n",
    "\n",
    "# make the dates into actual datetime objects for easier comparison\n",
    "df[\"date\"] = df[\"date\"].map(lambda x: datetime.strptime(x, '%Y-%m-%d'))"
   ]
  },
  {
   "cell_type": "code",
   "execution_count": 34,
   "metadata": {
    "collapsed": true
   },
   "outputs": [],
   "source": [
    "# calculate stock features\n",
    "# TODO: add the rest of the features to the dataframe\n",
    "stocks = set(df[\"symbol\"].tolist())\n",
    "stock_feat = pd.DataFrame({\"variance\": variance(stocks, df)}, index=stocks)"
   ]
  },
  {
   "cell_type": "code",
   "execution_count": 35,
   "metadata": {
    "collapsed": true
   },
   "outputs": [],
   "source": [
    "# calculate portfolio features\n",
    "# TODO: add the rest of the features to the dataframe\n",
    "port_feat = pd.DataFrame({\"variance\": variance(port, df)}, index=port)"
   ]
  },
  {
   "cell_type": "code",
   "execution_count": 36,
   "metadata": {},
   "outputs": [
    {
     "name": "stdout",
     "output_type": "stream",
     "text": [
      "0\tPNW\n",
      "1\tSWN\n",
      "2\tBBBY\n",
      "3\tNTRS\n",
      "4\tCOH\n",
      "5\tWFM\n",
      "6\tCL\n",
      "7\tICE\n",
      "8\tNWL\n",
      "9\tJPM\n"
     ]
    }
   ],
   "source": [
    "# calculate a cost function for all the stocks in relation to the portfolio and rank them based on their cost\n",
    "#\n",
    "# cost function is defined as sum of the euclidian distances of the features of the stock and the features of \n",
    "# each individual stock in the portfolio, weighted by the its proportion in the portfolio\n",
    "\n",
    "cost = {} # dictionary of stocks and their cost function \n",
    "min_dist = 10**10\n",
    "for s in stocks:\n",
    "    if s in port: continue\n",
    "    sf = stock_feat.loc[s] # stock feature series\n",
    "    sf = sf.as_matrix()\n",
    "    dist = 0\n",
    "    for key, val in port.items():\n",
    "        pf = port_feat.loc[key] # portfolio feature series\n",
    "        pf = pf.as_matrix()\n",
    "        dist += val*euclid_dist(pf, sf) # val = weight of the stock in relation to the rest of the portfolio\n",
    "    if dist < min_dist:\n",
    "        min_dist = dist\n",
    "        opt_stock = s\n",
    "    cost[s] = dist\n",
    "    \n",
    "ranking = sorted(cost.keys(), key = lambda x: cost[x]) # sort by the cost\n",
    "\n",
    "print(\"\\n\".join([\"%s\\t%s\"%(i,j) for i,j in zip(range(10),ranking[:10])])) # print rankings"
   ]
  },
  {
   "cell_type": "code",
   "execution_count": null,
   "metadata": {
    "collapsed": true
   },
   "outputs": [],
   "source": []
  }
 ],
 "metadata": {
  "_change_revision": 0,
  "_is_fork": false,
  "kernelspec": {
   "display_name": "Python 3",
   "language": "python",
   "name": "python3"
  },
  "language_info": {
   "codemirror_mode": {
    "name": "ipython",
    "version": 3
   },
   "file_extension": ".py",
   "mimetype": "text/x-python",
   "name": "python",
   "nbconvert_exporter": "python",
   "pygments_lexer": "ipython3",
   "version": "3.6.1"
  }
 },
 "nbformat": 4,
 "nbformat_minor": 1
}
