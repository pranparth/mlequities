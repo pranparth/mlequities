{
 "cells": [
  {
   "cell_type": "code",
   "execution_count": 2,
   "metadata": {
    "collapsed": true
   },
   "outputs": [],
   "source": [
    "import numpy as np\n",
    "import pandas as pd\n",
    "import matplotlib.pyplot as plt\n",
    "import quandl\n",
    "from datetime import datetime\n",
    "from datetime import timedelta, date\n",
    "quandl.ApiConfig.api_key= '1ssLPs8xYzykLMyAj-je'#MY KEY, GET YOUR OWN"
   ]
  },
  {
   "cell_type": "code",
   "execution_count": 3,
   "metadata": {
    "collapsed": true
   },
   "outputs": [],
   "source": [
    "df = pd.read_csv(\"constituents.csv\")"
   ]
  },
  {
   "cell_type": "code",
   "execution_count": 4,
   "metadata": {
    "collapsed": true
   },
   "outputs": [],
   "source": [
    "tickers = df[\"Symbol\"][:50]#tickers in this csv"
   ]
  },
  {
   "cell_type": "code",
   "execution_count": 28,
   "metadata": {
    "collapsed": true
   },
   "outputs": [],
   "source": [
    "price_df = pd.DataFrame()\n",
    "for ticker in tickers[0:15]:\n",
    "    price_df[ticker] = quandl.get(\"WIKI/\" + ticker, start_date=str(datetime(2004, 1, 1).date()), end_date = str(date.today()))[\"Close\"]"
   ]
  },
  {
   "cell_type": "code",
   "execution_count": 62,
   "metadata": {},
   "outputs": [],
   "source": [
    "def portfolio_corr(t_weights, stock, M):\n",
    "    \"\"\" t_weights is a TICKER, WEIGHT value pair representing the weight of TICKER in input portfolio \"\"\" \n",
    "    return sum([M.loc[stock, ticker]*t_weights[ticker] for ticker in t_weights])\n",
    "def annual_variance(ticker, M):\n",
    "    \"\"\" M is a timeseries matrix\"\"\"\n",
    "    year_list = price_df.index.tolist()\n",
    "    M['year'] = list(map(lambda x: x.to_pydatetime().year, year_list))\n",
    "    return M.groupby('year')[ticker].var()"
   ]
  },
  {
   "cell_type": "code",
   "execution_count": 67,
   "metadata": {},
   "outputs": [
    {
     "data": {
      "text/html": [
       "<div>\n",
       "<style>\n",
       "    .dataframe thead tr:only-child th {\n",
       "        text-align: right;\n",
       "    }\n",
       "\n",
       "    .dataframe thead th {\n",
       "        text-align: left;\n",
       "    }\n",
       "\n",
       "    .dataframe tbody tr th {\n",
       "        vertical-align: top;\n",
       "    }\n",
       "</style>\n",
       "<table border=\"1\" class=\"dataframe\">\n",
       "  <thead>\n",
       "    <tr style=\"text-align: right;\">\n",
       "      <th></th>\n",
       "      <th>A</th>\n",
       "      <th>AAP</th>\n",
       "      <th>ABBV</th>\n",
       "      <th>ABT</th>\n",
       "      <th>ACN</th>\n",
       "      <th>ADBE</th>\n",
       "      <th>AES</th>\n",
       "      <th>AET</th>\n",
       "      <th>AFL</th>\n",
       "      <th>AKAM</th>\n",
       "      <th>AMG</th>\n",
       "      <th>APD</th>\n",
       "      <th>ATVI</th>\n",
       "      <th>AYI</th>\n",
       "      <th>MMM</th>\n",
       "    </tr>\n",
       "  </thead>\n",
       "  <tbody>\n",
       "    <tr>\n",
       "      <th>0</th>\n",
       "      <td>0.091633</td>\n",
       "      <td>0.506539</td>\n",
       "      <td>0.825793</td>\n",
       "      <td>0.791013</td>\n",
       "      <td>0.791013</td>\n",
       "      <td>0.803059</td>\n",
       "      <td>-0.351267</td>\n",
       "      <td>0.845834</td>\n",
       "      <td>0.665686</td>\n",
       "      <td>0.386498</td>\n",
       "      <td>0.011772</td>\n",
       "      <td>0.747527</td>\n",
       "      <td>0.763943</td>\n",
       "      <td>0.652958</td>\n",
       "      <td>0.815860</td>\n",
       "    </tr>\n",
       "    <tr>\n",
       "      <th>1</th>\n",
       "      <td>5.502800</td>\n",
       "      <td>26.146295</td>\n",
       "      <td>7.603870</td>\n",
       "      <td>3.622026</td>\n",
       "      <td>6.182025</td>\n",
       "      <td>14.195511</td>\n",
       "      <td>0.259348</td>\n",
       "      <td>13.963411</td>\n",
       "      <td>4.391163</td>\n",
       "      <td>8.328118</td>\n",
       "      <td>11.961123</td>\n",
       "      <td>4.306270</td>\n",
       "      <td>8.500376</td>\n",
       "      <td>18.143482</td>\n",
       "      <td>11.933305</td>\n",
       "    </tr>\n",
       "  </tbody>\n",
       "</table>\n",
       "</div>"
      ],
      "text/plain": [
       "          A        AAP      ABBV       ABT       ACN       ADBE       AES  \\\n",
       "0  0.091633   0.506539  0.825793  0.791013  0.791013   0.803059 -0.351267   \n",
       "1  5.502800  26.146295  7.603870  3.622026  6.182025  14.195511  0.259348   \n",
       "\n",
       "         AET       AFL      AKAM        AMG       APD      ATVI        AYI  \\\n",
       "0   0.845834  0.665686  0.386498   0.011772  0.747527  0.763943   0.652958   \n",
       "1  13.963411  4.391163  8.328118  11.961123  4.306270  8.500376  18.143482   \n",
       "\n",
       "         MMM  \n",
       "0   0.815860  \n",
       "1  11.933305  "
      ]
     },
     "execution_count": 67,
     "metadata": {},
     "output_type": "execute_result"
    }
   ],
   "source": [
    "M = price_df.dropna().corr()\n",
    "portfolio = {\"ABT\":0.5, \"ACN\": 0.5}\n",
    "X = {}\n",
    "for ticker in tickers[0:15]:\n",
    "    corr = portfolio_corr(portfolio, ticker, M)\n",
    "    year_var = annual_variance(ticker, price_df)[2017]\n",
    "    X[ticker] = [corr, year_var ** (1/2)]\n",
    "data_df = pd.DataFrame(X)"
   ]
  },
  {
   "cell_type": "code",
   "execution_count": 63,
   "metadata": {},
   "outputs": [
    {
     "data": {
      "text/plain": [
       "year\n",
       "2004     3.759715\n",
       "2005     9.410574\n",
       "2006     7.581906\n",
       "2007     5.296434\n",
       "2008     6.555426\n",
       "2009    16.554360\n",
       "2010     7.640215\n",
       "2011     6.826904\n",
       "2012    18.323205\n",
       "2013     2.692020\n",
       "2014     5.649396\n",
       "2015     6.952215\n",
       "2016     4.917740\n",
       "2017    13.119075\n",
       "Name: ABT, dtype: float64"
      ]
     },
     "execution_count": 63,
     "metadata": {},
     "output_type": "execute_result"
    }
   ],
   "source": [
    "annual_variance(\"ABT\", price_df)"
   ]
  },
  {
   "cell_type": "code",
   "execution_count": 81,
   "metadata": {},
   "outputs": [
    {
     "data": {
      "text/html": [
       "<div>\n",
       "<style>\n",
       "    .dataframe thead tr:only-child th {\n",
       "        text-align: right;\n",
       "    }\n",
       "\n",
       "    .dataframe thead th {\n",
       "        text-align: left;\n",
       "    }\n",
       "\n",
       "    .dataframe tbody tr th {\n",
       "        vertical-align: top;\n",
       "    }\n",
       "</style>\n",
       "<table border=\"1\" class=\"dataframe\">\n",
       "  <thead>\n",
       "    <tr style=\"text-align: right;\">\n",
       "      <th></th>\n",
       "      <th>corr</th>\n",
       "      <th>sigma</th>\n",
       "    </tr>\n",
       "  </thead>\n",
       "  <tbody>\n",
       "    <tr>\n",
       "      <th>A</th>\n",
       "      <td>0.091633</td>\n",
       "      <td>5.502800</td>\n",
       "    </tr>\n",
       "    <tr>\n",
       "      <th>AAP</th>\n",
       "      <td>0.506539</td>\n",
       "      <td>26.146295</td>\n",
       "    </tr>\n",
       "    <tr>\n",
       "      <th>ABBV</th>\n",
       "      <td>0.825793</td>\n",
       "      <td>7.603870</td>\n",
       "    </tr>\n",
       "    <tr>\n",
       "      <th>ABT</th>\n",
       "      <td>0.791013</td>\n",
       "      <td>3.622026</td>\n",
       "    </tr>\n",
       "    <tr>\n",
       "      <th>ACN</th>\n",
       "      <td>0.791013</td>\n",
       "      <td>6.182025</td>\n",
       "    </tr>\n",
       "  </tbody>\n",
       "</table>\n",
       "</div>"
      ],
      "text/plain": [
       "          corr      sigma\n",
       "A     0.091633   5.502800\n",
       "AAP   0.506539  26.146295\n",
       "ABBV  0.825793   7.603870\n",
       "ABT   0.791013   3.622026\n",
       "ACN   0.791013   6.182025"
      ]
     },
     "execution_count": 81,
     "metadata": {},
     "output_type": "execute_result"
    }
   ],
   "source": [
    "plot_df = pd.DataFrame({'corr': data_df.iloc[0], 'sigma': data_df.iloc[1]})\n",
    "plot_df.plot(kind='scatter', x='corr', y='sigma')\n",
    "plot_df.head()"
   ]
  },
  {
   "cell_type": "code",
   "execution_count": 79,
   "metadata": {},
   "outputs": [
    {
     "data": {
      "text/html": [
       "<div>\n",
       "<style>\n",
       "    .dataframe thead tr:only-child th {\n",
       "        text-align: right;\n",
       "    }\n",
       "\n",
       "    .dataframe thead th {\n",
       "        text-align: left;\n",
       "    }\n",
       "\n",
       "    .dataframe tbody tr th {\n",
       "        vertical-align: top;\n",
       "    }\n",
       "</style>\n",
       "<table border=\"1\" class=\"dataframe\">\n",
       "  <thead>\n",
       "    <tr style=\"text-align: right;\">\n",
       "      <th></th>\n",
       "      <th>corr</th>\n",
       "      <th>sigma</th>\n",
       "    </tr>\n",
       "  </thead>\n",
       "  <tbody>\n",
       "    <tr>\n",
       "      <th>corr</th>\n",
       "      <td>1.000000</td>\n",
       "      <td>0.230013</td>\n",
       "    </tr>\n",
       "    <tr>\n",
       "      <th>sigma</th>\n",
       "      <td>0.230013</td>\n",
       "      <td>1.000000</td>\n",
       "    </tr>\n",
       "  </tbody>\n",
       "</table>\n",
       "</div>"
      ],
      "text/plain": [
       "           corr     sigma\n",
       "corr   1.000000  0.230013\n",
       "sigma  0.230013  1.000000"
      ]
     },
     "execution_count": 79,
     "metadata": {},
     "output_type": "execute_result"
    }
   ],
   "source": [
    "plot_df.corr()"
   ]
  },
  {
   "cell_type": "code",
   "execution_count": 78,
   "metadata": {},
   "outputs": [
    {
     "data": {
      "image/png": "[encoded data removed]",
      "text/plain": [
       "<matplotlib.figure.Figure at 0x10a5b1f60>"
      ]
     },
     "metadata": {},
     "output_type": "display_data"
    }
   ],
   "source": [
    "plt.show()"
   ]
  },
  {
   "cell_type": "code",
   "execution_count": null,
   "metadata": {},
   "outputs": [],
   "source": []
  },
  {
   "cell_type": "code",
   "execution_count": null,
   "metadata": {
    "collapsed": true
   },
   "outputs": [],
   "source": []
  }
 ],
 "metadata": {
  "kernelspec": {
   "display_name": "Python 3",
   "language": "python",
   "name": "python3"
  },
  "language_info": {
   "codemirror_mode": {
    "name": "ipython",
    "version": 3
   },
   "file_extension": ".py",
   "mimetype": "text/x-python",
   "name": "python",
   "nbconvert_exporter": "python",
   "pygments_lexer": "ipython3",
   "version": "3.6.1"
  }
 },
 "nbformat": 4,
 "nbformat_minor": 2
}
