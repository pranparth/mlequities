{
 "cells": [
  {
   "cell_type": "code",
   "execution_count": 2,
   "metadata": {
    "collapsed": true
   },
   "outputs": [],
   "source": [
    "#===================================================\n",
    "#\n",
    "# utils.ipynb: Defines utility functions \n",
    "#\n",
    "# Original: Vedaad Shakib (10/10/17)\n",
    "#===================================================\n",
    "\n",
    "def stock(name, df, start=\"2010-01-01\", end=\"2016-12-30\"):\n",
    "    '''\n",
    "    Returns a dataframe for stock name between the dates start and end (exclusive). \n",
    "    Start and end are strings in the format YYYY-MM-DD.\n",
    "    '''\n",
    "    df_stock = df.loc[df[\"symbol\"] == name]\n",
    "    df_stock = df_stock.loc[df[\"date\"] >= datetime.strptime(start, \"%Y-%m-%d\")]\n",
    "    df_stock = df_stock.loc[df[\"date\"] <= datetime.strptime(end, \"%Y-%m-%d\")]\n",
    "    \n",
    "    return df_stock\n",
    "\n",
    "def euclid_dist(a, b):\n",
    "    '''\n",
    "    Calculates the euclidian distance between two vectors a and b in n dimensional space\n",
    "    '''\n",
    "    assert type(a)==np.ndarray\n",
    "    assert type(b)==np.ndarray\n",
    "    \n",
    "    return np.linalg.norm(a-b)"
   ]
  },
  {
   "cell_type": "code",
   "execution_count": null,
   "metadata": {
    "collapsed": true
   },
   "outputs": [],
   "source": []
  }
 ],
 "metadata": {
  "kernelspec": {
   "display_name": "Python 3",
   "language": "python",
   "name": "python3"
  },
  "language_info": {
   "codemirror_mode": {
    "name": "ipython",
    "version": 3
   },
   "file_extension": ".py",
   "mimetype": "text/x-python",
   "name": "python",
   "nbconvert_exporter": "python",
   "pygments_lexer": "ipython3",
   "version": "3.6.1"
  }
 },
 "nbformat": 4,
 "nbformat_minor": 2
}
