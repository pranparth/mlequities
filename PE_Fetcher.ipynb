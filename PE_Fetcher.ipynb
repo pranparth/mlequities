{
 "cells": [
  {
   "cell_type": "code",
   "execution_count": 79,
   "metadata": {},
   "outputs": [
    {
     "name": "stdout",
     "output_type": "stream",
     "text": [
      "HTTP Error 404: Not Found\n",
      "HTTP Error 404: Not Found\n",
      "HTTP Error 404: Not Found\n",
      "ABT           (85.10, Healthcare)\n",
      "ABBV          (22.26, Healthcare)\n",
      "ACN           (25.58, Technology)\n",
      "ACE                          None\n",
      "ADBE          (47.86, Technology)\n",
      "ADT                          None\n",
      "WFC            (13.70, Financial)\n",
      "WDC           (67.14, Technology)\n",
      "WU             (49.49, Financial)\n",
      "WY      (63.91, Industrial Goods)\n",
      "WHR       (17.76, Consumer Goods)\n",
      "WFM                          None\n",
      "WMB      (49.23, Basic Materials)\n",
      "WEC            (21.15, Utilities)\n",
      "WYN             (20.21, Services)\n",
      "dtype: object\n"
     ]
    }
   ],
   "source": [
    "import pandas as pd\n",
    "import urllib as u\n",
    "from bs4 import BeautifulSoup as bs\n",
    "import matplotlib.pyplot as plt\n",
    "import numpy as np\n",
    "\"\"\"\n",
    "This fuction will allow us to get the fundamental data we want. \n",
    "For now I have just been using PE ratio and Industry\n",
    "\n",
    "\"\"\"\n",
    "\n",
    "def get_fundamentals( symbol ):\n",
    "    try:\n",
    "        url = ('http://finviz.com/quote.ashx?t={}').format(symbol.lower())\n",
    "        html = u.request.urlopen(url).read()\n",
    "        soup = bs(html, 'lxml')\n",
    "        \n",
    "        # Search for metrics in the html\n",
    "        pe =  soup.find(text = 'P/E').find_next(class_='snapshot-td2').text\n",
    "        industry = soup.find(class_ = 'fullview-title').find_next(class_= 'fullview-links')\\\n",
    "            .find_next(class_='tab-link').text\n",
    "            \n",
    "        return (pe, industry)\n",
    "        \n",
    "        \n",
    "    except Exception as e:\n",
    "        print(e)\n",
    "        \n",
    "stock_list = ['ABT', 'ABBV', 'ACN', 'ACE', 'ADBE', 'ADT','WFC', 'WDC', 'WU', 'WY', 'WHR', 'WFM', 'WMB', 'WEC', 'WYN'] \n",
    "fundamental_series = pd.Series( index=stock_list )\n",
    "\n",
    "for sym in stock_list:\n",
    "    fundamental_series[sym] = get_fundamentals(sym)\n",
    "\n",
    "print(fundamental_series)"
   ]
  },
  {
   "cell_type": "code",
   "execution_count": 82,
   "metadata": {},
   "outputs": [
    {
     "name": "stdout",
     "output_type": "stream",
     "text": [
      "{'Healthcare': ['85.10', '22.26'], 'Technology': ['25.58', '47.86', '67.14'], 'Financial': ['13.70', '49.49'], 'Industrial Goods': ['63.91'], 'Consumer Goods': ['17.76'], 'Basic Materials': ['49.23'], 'Utilities': ['21.15'], 'Services': ['20.21']}\n",
      "Average for Healthcare is 53.68\n",
      "Average for Technology is 46.85999999999999\n",
      "Average for Financial is 31.595\n",
      "Average for Industrial Goods is 63.91\n",
      "Average for Consumer Goods is 17.76\n",
      "Average for Basic Materials is 49.23\n",
      "Average for Utilities is 21.15\n",
      "Average for Services is 20.21\n"
     ]
    }
   ],
   "source": [
    "industries_dict = {}\n",
    "\n",
    "for x in fundamental_series.iteritems():\n",
    "    if x[1] and not (x[1][0] == '-'):\n",
    "        if x[1][1] in industries_dict.keys():\n",
    "            industries_dict[x[1][1]].append(x[1][0])\n",
    "        else:\n",
    "            industries_dict[x[1][1]] = [x[1][0]]\n",
    "\n",
    "print(industries_dict)\n",
    "for key in industries_dict:\n",
    "    v = [float(i) for i in industries_dict[key]]\n",
    "    mean = np.array(v).mean()\n",
    "    print( \"Average for {} is {}\".format(key,mean))"
   ]
  },
  {
   "cell_type": "code",
   "execution_count": null,
   "metadata": {
    "collapsed": true
   },
   "outputs": [],
   "source": []
  }
 ],
 "metadata": {
  "kernelspec": {
   "display_name": "Python 3",
   "language": "python",
   "name": "python3"
  },
  "language_info": {
   "codemirror_mode": {
    "name": "ipython",
    "version": 3
   },
   "file_extension": ".py",
   "mimetype": "text/x-python",
   "name": "python",
   "nbconvert_exporter": "python",
   "pygments_lexer": "ipython3",
   "version": "3.6.1"
  }
 },
 "nbformat": 4,
 "nbformat_minor": 2
}
