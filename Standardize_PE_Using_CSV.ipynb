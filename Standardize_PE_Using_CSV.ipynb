{
 "cells": [
  {
   "cell_type": "code",
   "execution_count": 1,
   "metadata": {
    "collapsed": true
   },
   "outputs": [],
   "source": [
    "import pandas as pd\n",
    "import numpy as np\n",
    "\n",
    "df_sec = pd.read_csv(\"securities.csv\")\n",
    "df_fund = pd.read_csv(\"fundamentals.csv\")\n",
    "df_price = pd.read_csv(\"prices.csv\")\n",
    "\n",
    "df_price = df_price[['symbol','close']].drop_duplicates(subset='symbol', keep = \"last\")\n",
    "df = pd.DataFrame()\n",
    "df[\"Ticker\"] = df_fund[\"Ticker Symbol\"]\n",
    "df[\"EPS\"] = df_fund['Earnings Per Share']\n",
    "df = df.drop_duplicates(subset='Ticker', keep = \"last\")\n",
    "df[\"Industry\"] = np.nan\n",
    "df[\"Price\"] = np.nan\n"
   ]
  },
  {
   "cell_type": "code",
   "execution_count": 2,
   "metadata": {},
   "outputs": [
    {
     "name": "stdout",
     "output_type": "stream",
     "text": [
      "     Ticker    EPS                     Industry       Price      PE\n",
      "3       AAL  11.39                  Industrials   46.689999    4.10\n",
      "7       AAP   6.45       Consumer Discretionary  169.119995   26.22\n",
      "11     AAPL   8.35       Information Technology  115.820000   13.87\n",
      "15     ABBV   3.15                  Health Care   62.619999   19.88\n",
      "19      ABC   6.73                  Health Care   78.190002   11.62\n",
      "23      ABT   2.94                  Health Care   38.410000   13.06\n",
      "31      ADI   0.96       Information Technology   72.620003   75.65\n",
      "35      ADM   2.99             Consumer Staples   45.650002   15.27\n",
      "39      ADS   8.91       Information Technology  228.500000   25.65\n",
      "47      AEE   2.60                    Utilities   52.459999   20.18\n",
      "55      AFL   5.88                   Financials   69.599998   11.84\n",
      "59      AIG   1.69                   Financials   65.309998   38.64\n",
      "63      AIV   1.52                  Real Estate   45.450001   29.90\n",
      "75     AKAM   1.80       Information Technology   66.680000   37.04\n",
      "79      ALB   3.01                    Materials   86.080002   28.60\n",
      "83      ALK   6.61                  Industrials   88.730003   13.42\n",
      "87      ALL   5.12                   Financials   74.120003   14.48\n",
      "99     AMAT   1.56       Information Technology   32.270000   20.69\n",
      "103     AME   2.46                  Industrials   48.599998   19.76\n",
      "107     AMG   9.49                   Financials  145.300003   15.31\n",
      "115     AMP   8.60                   Financials  110.940002   12.90\n",
      "119     AMT   1.42                  Real Estate  105.680000   74.42\n",
      "131    ANTM   9.73                  Health Care  143.770004   14.78\n",
      "135     AON   4.93                   Financials  111.529999   22.62\n",
      "147     APD   2.92                    Materials  143.820007   49.25\n",
      "151     APH   2.47       Information Technology   67.199997   27.21\n",
      "159    ATVI   1.21       Information Technology   36.110001   29.84\n",
      "163     AVB   5.54                  Real Estate  177.149994   31.98\n",
      "169     AVY   3.01                    Materials   70.220001   23.33\n",
      "173     AWK   2.66                    Utilities   72.360001   27.20\n",
      "...     ...    ...                          ...         ...     ...\n",
      "1609    UPS   5.38                  Industrials  114.639999   21.31\n",
      "1613   URBN   1.79       Consumer Discretionary   28.480000   15.91\n",
      "1629    VAR   4.22                  Health Care   89.779999   21.27\n",
      "1633    VFC   2.90       Consumer Discretionary   53.349998   18.40\n",
      "1637   VIAB   3.63       Consumer Discretionary   35.099998    9.67\n",
      "1641    VLO   8.00                       Energy   68.320000    8.54\n",
      "1645    VMC   1.66                    Materials  125.150002   75.39\n",
      "1653   VRSK   3.07                  Industrials   81.169998   26.44\n",
      "1657   VRSN   3.29       Information Technology   76.070000   23.12\n",
      "1669     VZ   4.38  Telecommunications Services   53.380001   12.19\n",
      "1673    WAT   5.70                  Health Care  134.389999   23.58\n",
      "1677    WDC   1.01       Information Technology   67.949997   67.28\n",
      "1681    WEC   2.36                    Utilities   58.650002   24.85\n",
      "1685    WFC   4.18                   Financials   55.110001   13.18\n",
      "1689    WFM   1.55             Consumer Staples   30.760000   19.85\n",
      "1709    WMT   4.58             Consumer Staples   69.120003   15.09\n",
      "1716     WU   1.63       Information Technology   21.719999   13.33\n",
      "1720     WY   0.89                  Real Estate   30.090000   33.81\n",
      "1724    WYN   5.18       Consumer Discretionary   76.370003   14.74\n",
      "1728   WYNN   1.93       Consumer Discretionary   86.510002   44.82\n",
      "1736    XEL   1.94                    Utilities   40.700001   20.98\n",
      "1740     XL   4.22                   Financials   37.259998    8.83\n",
      "1744   XLNX   2.14       Information Technology   60.369999   28.21\n",
      "1748    XOM   3.85                       Energy   90.260002   23.44\n",
      "1752   XRAY   1.79                  Health Care   57.730000   32.25\n",
      "1756    XRX   0.42       Information Technology    8.730000   20.79\n",
      "1760    XYL   1.88                  Industrials   49.520000   26.34\n",
      "1768    YUM   2.97       Consumer Discretionary   63.330002   21.32\n",
      "1772    ZBH   0.78                  Health Care  103.199997  132.31\n",
      "1776   ZION   1.20                   Financials   43.040001   35.87\n",
      "\n",
      "[291 rows x 5 columns]\n"
     ]
    }
   ],
   "source": [
    "# Merging data from all the different cvs and fetching stock data\n",
    "\n",
    "\n",
    "for x in df_sec.iterrows():\n",
    "    truth = df[\"Ticker\"]==x[1]['Ticker symbol']\n",
    "    try:\n",
    "        df.loc[df.loc[truth][\"Ticker\"].index.values[0],'Industry'] = x[1]['GICS Sector']\n",
    "    except:\n",
    "        pass\n",
    "\n",
    "for x in df_price.iterrows():\n",
    "    truth = df[\"Ticker\"]==x[1]['symbol']\n",
    "    try:\n",
    "        df.loc[df.loc[truth][\"Ticker\"].index.values[0],'Price'] = x[1]['close']\n",
    "    except:\n",
    "        pass\n",
    "\n",
    "\n",
    "df = df.drop(df[df.EPS < 0].index)\n",
    "df[\"PE\"] = round(df['Price']/df['EPS'], 2)\n",
    "df = df.dropna()\n",
    "print(df)\n",
    "\n",
    "# Calculate industry averages\n",
    "industries_dict = {sector: np.mean(df[df.Industry == sector].PE.values) for sector in df.Industry.unique()}"
   ]
  },
  {
   "cell_type": "code",
   "execution_count": null,
   "metadata": {
    "collapsed": true
   },
   "outputs": [],
   "source": []
  },
  {
   "cell_type": "code",
   "execution_count": 3,
   "metadata": {},
   "outputs": [
    {
     "data": {
      "text/plain": [
       "-0.52777863753133802"
      ]
     },
     "execution_count": 3,
     "metadata": {},
     "output_type": "execute_result"
    }
   ],
   "source": [
    "def get_standarized_PE(ticker, pe= None, industry= None):\n",
    "    if not pe or not industry:\n",
    "        assert ticker in df.Ticker.values, \"Please provide price and Industry\"\n",
    "        data = df.loc[df[\"Ticker\"] == ticker]\n",
    "        indus = data[\"Industry\"].values[0]\n",
    "        PE = data[\"PE\"].values[0]\n",
    "        avg = industries_dict[indus]\n",
    "        return (PE - avg)/avg\n",
    "    else:\n",
    "        assert industry in industries_sect.keyes(), \"You're sector needs to be a GICS Sector\"\n",
    "        avg = industries_dict[industry]\n",
    "        return (pe - avg)/avg\n",
    "\n",
    "get_standarized_PE(\"AAPL\")\n",
    "        "
   ]
  },
  {
   "cell_type": "code",
   "execution_count": null,
   "metadata": {
    "collapsed": true
   },
   "outputs": [],
   "source": []
  }
 ],
 "metadata": {
  "kernelspec": {
   "display_name": "Python 3",
   "language": "python",
   "name": "python3"
  },
  "language_info": {
   "codemirror_mode": {
    "name": "ipython",
    "version": 3
   },
   "file_extension": ".py",
   "mimetype": "text/x-python",
   "name": "python",
   "nbconvert_exporter": "python",
   "pygments_lexer": "ipython3",
   "version": "3.6.1"
  }
 },
 "nbformat": 4,
 "nbformat_minor": 2
}
