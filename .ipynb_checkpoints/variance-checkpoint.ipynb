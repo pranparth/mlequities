{
 "cells": [
  {
   "cell_type": "code",
   "execution_count": 1,
   "metadata": {
    "collapsed": true
   },
   "outputs": [],
   "source": [
    "#===================================================\n",
    "#\n",
    "# variance.py: Defines functions to compute variance \n",
    "#              of a single stock or a list of stocks\n",
    "#\n",
    "# Original: Vedaad Shakib (10/03/17)\n",
    "#===================================================\n",
    "\n",
    "import numpy as np \n",
    "import pandas as pd\n",
    "from IPython.core.display import display\n",
    "from datetime import datetime \n",
    "%run 'utils.ipynb'"
   ]
  },
  {
   "cell_type": "code",
   "execution_count": 10,
   "metadata": {
    "collapsed": true
   },
   "outputs": [],
   "source": [
    "def get_variance(name, df):\n",
    "    '''\n",
    "    Returns the variance for a stock.\n",
    "    '''\n",
    "    df_stock = stock(name, df)\n",
    "\n",
    "    mean = df_stock.loc[:, ['open']].sum()/len(df_stock.index)\n",
    "    variance = (df_stock.loc[:, ['open']]-mean)**2\n",
    "\n",
    "    return float(variance.sum()/len(variance.index))\n",
    "\n",
    "def get_all_variance(stocks, df):\n",
    "    var = []\n",
    "    for i in stocks:\n",
    "        var.append(get_variance(i, df)) # add individual variances\n",
    "    return var"
   ]
  },
  {
   "cell_type": "code",
   "execution_count": 11,
   "metadata": {},
   "outputs": [
    {
     "name": "stdout",
     "output_type": "stream",
     "text": [
      "[802.6431658467568, 130.17379566317456]\n"
     ]
    }
   ],
   "source": [
    "if __name__ == \"__main__\":\n",
    "    df = pd.read_csv(\"prices-split-adjusted.csv\")\n",
    "\n",
    "    print(get_all_variance((\"AAPL\", \"YHOO\"), df))"
   ]
  },
  {
   "cell_type": "code",
   "execution_count": null,
   "metadata": {
    "collapsed": true
   },
   "outputs": [],
   "source": []
  }
 ],
 "metadata": {
  "kernelspec": {
   "display_name": "Python 3",
   "language": "python",
   "name": "python3"
  },
  "language_info": {
   "codemirror_mode": {
    "name": "ipython",
    "version": 3
   },
   "file_extension": ".py",
   "mimetype": "text/x-python",
   "name": "python",
   "nbconvert_exporter": "python",
   "pygments_lexer": "ipython3",
   "version": "3.6.1"
  }
 },
 "nbformat": 4,
 "nbformat_minor": 2
}
