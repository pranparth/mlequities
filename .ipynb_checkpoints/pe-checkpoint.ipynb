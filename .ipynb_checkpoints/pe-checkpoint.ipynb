{
 "cells": [
  {
   "cell_type": "code",
   "execution_count": 27,
   "metadata": {},
   "outputs": [],
   "source": [
    "#===================================================\n",
    "#\n",
    "# pe.ipynb: Return standardized P/E\n",
    "#\n",
    "# Author: Shubhrakanti Ganguly\n",
    "#===================================================\n",
    "\n",
    "import pandas as pd\n",
    "import numpy as np\n",
    "from IPython.core.display import display\n",
    "\n",
    "# get a merged dataset with all values needed to calculate P/E and the average industry values\n",
    "def get_df():\n",
    "    df_sec = pd.read_csv(\"securities.csv\")\n",
    "    df_fund = pd.read_csv(\"fundamentals.csv\")\n",
    "    df_price = pd.read_csv(\"prices-split-adjusted.csv\")\n",
    "\n",
    "    df_price = df_price[['symbol','close']].drop_duplicates(subset='symbol', keep = \"last\")\n",
    "    df = pd.DataFrame()\n",
    "    df[\"Ticker\"] = df_fund[\"Ticker Symbol\"]\n",
    "    df[\"EPS\"] = df_fund['Earnings Per Share']\n",
    "    df = df.drop_duplicates(subset='Ticker', keep = \"last\")\n",
    "    df[\"Industry\"] = np.nan\n",
    "    df[\"Price\"] = np.nan\n",
    "    \n",
    "    for x in df_sec.iterrows():\n",
    "        truth = df[\"Ticker\"]==x[1]['Ticker symbol']\n",
    "        try:\n",
    "            df.loc[df.loc[truth][\"Ticker\"].index.values[0],'Industry'] = x[1]['GICS Sector']\n",
    "        except:\n",
    "            pass\n",
    "\n",
    "    for x in df_price.iterrows():\n",
    "        truth = df[\"Ticker\"]==x[1]['symbol']\n",
    "        try:\n",
    "            df.loc[df.loc[truth][\"Ticker\"].index.values[0],'Price'] = x[1]['close']\n",
    "        except:\n",
    "            pass\n",
    "\n",
    "    df = df.drop(df[df.EPS < 0].index)\n",
    "    df[\"PE\"] = round(df['Price']/df['EPS'], 2)\n",
    "    df = df.dropna()\n",
    "\n",
    "    industries_dict = {sector: np.mean(df[df.Industry == sector].PE.values) for sector in df.Industry.unique()}\n",
    "    \n",
    "    return df, industries_dict"
   ]
  },
  {
   "cell_type": "code",
   "execution_count": 41,
   "metadata": {},
   "outputs": [
    {
     "data": {
      "text/plain": [
       "[-0.52777863753133802, -0.0021046767154662997]"
      ]
     },
     "execution_count": 41,
     "metadata": {},
     "output_type": "execute_result"
    }
   ],
   "source": [
    "def get_pe(ticker, df, industries_dict, pe=None, industry=None):\n",
    "    if not pe or not industry:\n",
    "        assert ticker in df.Ticker.values, \"Please provide price and industry\"\n",
    "        data = df.loc[df[\"Ticker\"] == ticker]\n",
    "        indus = data[\"Industry\"].values[0]\n",
    "        PE = data[\"PE\"].values[0]\n",
    "        avg = industries_dict[indus]\n",
    "        return (PE - avg)/avg\n",
    "    else:\n",
    "        assert industry in industries_sect.keyes(), \"Your sector needs to be a GICS Sector\"\n",
    "        avg = industries_dict[industry]\n",
    "        return (pe - avg)/avg\n",
    "    \n",
    "def get_all_pe(stocks, df, industries_dict, pe=None, industry=None):\n",
    "    all_pe = []\n",
    "    for i in stocks:\n",
    "        all_pe.append(get_pe(i, df, industries_dict, pe, industry))\n",
    "    return all_pe\n",
    "\n",
    "if __name__ == \"__main__\":\n",
    "    df, industries_dict = get_df()\n",
    "    get_all_pe((\"AAPL\",\"MSFT\"), df, industries_dict)"
   ]
  }
 ],
 "metadata": {
  "kernelspec": {
   "display_name": "Python 3",
   "language": "python",
   "name": "python3"
  },
  "language_info": {
   "codemirror_mode": {
    "name": "ipython",
    "version": 3
   },
   "file_extension": ".py",
   "mimetype": "text/x-python",
   "name": "python",
   "nbconvert_exporter": "python",
   "pygments_lexer": "ipython3",
   "version": "3.6.1"
  }
 },
 "nbformat": 4,
 "nbformat_minor": 2
}
