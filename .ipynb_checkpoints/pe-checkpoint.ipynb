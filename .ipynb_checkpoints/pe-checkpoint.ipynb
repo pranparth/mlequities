{
 "cells": [
  {
   "cell_type": "code",
   "execution_count": 13,
   "metadata": {
    "collapsed": true
   },
   "outputs": [],
   "source": [
    "#===================================================\n",
    "#\n",
    "# pe.ipynb: Return standardized P/E\n",
    "#\n",
    "# Author: Shubhrakanti Ganguly\n",
    "#===================================================\n",
    "\n",
    "import pandas as pd\n",
    "import numpy as np\n",
    "from IPython.core.display import display\n",
    "\n",
    "# get a merged dataset with all values needed to calculate P/E and the average industry values\n",
    "def get_df():\n",
    "    df_sec = pd.read_csv(\"securities.csv\")\n",
    "    df_fund = pd.read_csv(\"fundamentals.csv\")\n",
    "    df_price = pd.read_csv(\"prices-split-adjusted.csv\")\n",
    "\n",
    "    df_price = df_price[['symbol','close']].drop_duplicates(subset='symbol', keep = \"last\")\n",
    "    df = pd.DataFrame()\n",
    "    df[\"Ticker\"] = df_fund[\"Ticker Symbol\"]\n",
    "    \n",
    "    #Get the EPS from the fundamentals CSV, no iterration here because it is the same file we got tickers from \n",
    "    df[\"EPS\"] = df_fund['Earnings Per Share']\n",
    "    df = df.drop_duplicates(subset='Ticker', keep = \"last\")\n",
    "    \n",
    "    #Initialize the two other columns\n",
    "    df[\"Industry\"] = np.nan\n",
    "    df[\"Price\"] = np.nan\n",
    "    \n",
    "    #Merge the data from securties.csv, specifically the GICS Sector\n",
    "    for x in df_sec.iterrows():\n",
    "        truth = df[\"Ticker\"]==x[1]['Ticker symbol']\n",
    "        try:\n",
    "            df.loc[df.loc[truth][\"Ticker\"].index.values[0],'Industry'] = x[1]['GICS Sector']\n",
    "        except:\n",
    "            pass\n",
    "        \n",
    "        \n",
    "    #Merge the data from price.csv, specifically the Price\n",
    "    for x in df_price.iterrows():\n",
    "        truth = df[\"Ticker\"]==x[1]['symbol']\n",
    "        try:\n",
    "            df.loc[df.loc[truth][\"Ticker\"].index.values[0],'Price'] = x[1]['close']\n",
    "        except:\n",
    "            pass\n",
    "\n",
    "    #OPTIONAL: We are dropping all stocks with negative EPS when calculating industry averages \n",
    "    df = df.drop(df[df.EPS < 0].index)\n",
    "    \n",
    "    #Make the PE ratio column\n",
    "    df[\"PE\"] = round(df['Price']/df['EPS'], 2)\n",
    "    df = df.dropna()\n",
    "\n",
    "    #Compute the mean of every GICS sector\n",
    "    industries_dict = {sector: np.mean(df[df.Industry == sector].PE.values) for sector in df.Industry.unique()}\n",
    "    \n",
    "    #Return \n",
    "    return df, industries_dict\n"
   ]
  },
  {
   "cell_type": "code",
   "execution_count": 15,
   "metadata": {},
   "outputs": [
    {
     "name": "stdout",
     "output_type": "stream",
     "text": [
      "[-0.52777863753133802, -0.0021046767154662997]\n"
     ]
    }
   ],
   "source": [
    "def get_pe(ticker, df, industries_dict, pe=None, industry=None):\n",
    "    \n",
    "    #User didn't give pe or Industry so I have to find it from my list of stocks\n",
    "    if not pe or not industry:\n",
    "        \n",
    "        #If you give me a stock I don't have data for and you don't provide data, fuck you \n",
    "        assert ticker in df.Ticker.values, \"Please provide price and industry\"\n",
    "        \n",
    "        #Fetch the PE of the stock, the average PE of the industry it's in (\"avg\")\n",
    "        data = df.loc[df[\"Ticker\"] == ticker]\n",
    "        indus = data[\"Industry\"].values[0]\n",
    "        PE = data[\"PE\"].values[0]\n",
    "        avg = industries_dict[indus]\n",
    "        \n",
    "        #Reutrn the z-score of the PE relative to it's industry \n",
    "        return (PE - avg)/avg\n",
    "    else:\n",
    "        #Check that I have an average for your sector\n",
    "        assert industry in industries_sect.keyes(), \"Your sector needs to be a GICS Sector\"\n",
    "        avg = industries_dict[industry]\n",
    "        \n",
    "        #Reutrn the z-score of the PE relative to it's industry \n",
    "        return (pe - avg)/avg\n",
    "    \n",
    "def get_all_pe(stocks, df, industries_dict, pe=None, industry=None):\n",
    "    '''\n",
    "    Same as get_pe, but for a list of stocks \n",
    "    '''\n",
    "    \n",
    "    all_pe = []\n",
    "    for i in stocks:\n",
    "        all_pe.append(get_pe(i, df, industries_dict, pe, industry))\n",
    "    return all_pe\n",
    "\n",
    "if __name__ == \"__main__\":\n",
    "    df, industries_dict = get_df()\n",
    "    get_all_pe((\"AAPL\",\"MSFT\"), df, industries_dict)"
   ]
  },
  {
   "cell_type": "code",
   "execution_count": null,
   "metadata": {
    "collapsed": true
   },
   "outputs": [],
   "source": []
  }
 ],
 "metadata": {
  "kernelspec": {
   "display_name": "Python 3",
   "language": "python",
   "name": "python3"
  },
  "language_info": {
   "codemirror_mode": {
    "name": "ipython",
    "version": 3
   },
   "file_extension": ".py",
   "mimetype": "text/x-python",
   "name": "python",
   "nbconvert_exporter": "python",
   "pygments_lexer": "ipython3",
   "version": "3.6.1"
  }
 },
 "nbformat": 4,
 "nbformat_minor": 2
}
