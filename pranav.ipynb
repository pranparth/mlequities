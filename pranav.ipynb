{
 "cells": [
  {
   "cell_type": "code",
   "execution_count": 107,
   "metadata": {
    "collapsed": true
   },
   "outputs": [],
   "source": [
    "import numpy as np\n",
    "import pandas as pd\n",
    "import matplotlib.pyplot as plt\n",
    "import quandl\n",
    "from datetime import datetime\n",
    "from datetime import timedelta, date\n",
    "import numpy.linalg\n",
    "quandl.ApiConfig.api_key= '1ssLPs8xYzykLMyAj-je'#MY KEY, GET YOUR OWN"
   ]
  },
  {
   "cell_type": "code",
   "execution_count": 3,
   "metadata": {
    "collapsed": true
   },
   "outputs": [],
   "source": [
    "df = pd.read_csv(\"constituents.csv\")"
   ]
  },
  {
   "cell_type": "code",
   "execution_count": 4,
   "metadata": {
    "collapsed": true
   },
   "outputs": [],
   "source": [
    "tickers = df[\"Symbol\"][:50]#tickers in this csv"
   ]
  },
  {
   "cell_type": "code",
   "execution_count": 82,
   "metadata": {
    "collapsed": true
   },
   "outputs": [],
   "source": [
    "price_df = pd.DataFrame()\n",
    "for ticker in tickers:\n",
    "    price_df[ticker] = quandl.get(\"WIKI/\" + ticker, start_date=str(datetime(2004, 1, 1).date()), end_date = str(date.today()))[\"Close\"]"
   ]
  },
  {
   "cell_type": "code",
   "execution_count": 100,
   "metadata": {
    "collapsed": true
   },
   "outputs": [],
   "source": [
    "def portfolio_corr(t_weights, stock, M):\n",
    "    \"\"\" t_weights is a TICKER, WEIGHT value pair representing the weight of TICKER in input portfolio \"\"\" \n",
    "    return sum([M.loc[stock, ticker]*t_weights[ticker] for ticker in t_weights])\n",
    "def annual_variance(ticker, M):\n",
    "    \"\"\" M is a timeseries matrix\"\"\"\n",
    "    year_list = price_df.index.tolist()\n",
    "    M['year'] = list(map(lambda x: x.to_pydatetime().year, year_list))\n",
    "    return M.groupby('year')[ticker].var()\n",
    "def annual_expected_return(ticker, M):\n",
    "    year_list = price_df.index.tolist()\n",
    "    M['year'] = list(map(lambda x: x.to_pydatetime().year, year_list))\n",
    "    return M.groupby('year')[ticker].mean()\n",
    "def portfolio_expected_return(t_weights, M):\n",
    "    year_list = price_df.index.tolist()\n",
    "    M['year'] = list(map(lambda x: x.to_pydatetime().year, year_list))\n",
    "    res = 0\n",
    "    for stock in t_weights:      \n",
    "        x = M.groupby('year')[stock].mean()\n",
    "        res += ((x[2017] - x[2016]) / x[2016]) * t_weights[stock]\n",
    "    return res\n",
    "def portfolio_variance(t_weights, M):\n",
    "    \n"
   ]
  },
  {
   "cell_type": "code",
   "execution_count": 102,
   "metadata": {},
   "outputs": [],
   "source": [
    "M = price_df.dropna().corr()\n",
    "portfolio = {\"ABT\":0.5, \"ACN\": 0.5}\n",
    "X = {}\n",
    "Y = {}\n",
    "p_return = portfolio_expected_return(t_weights, M)\n",
    "for ticker in tickers:\n",
    "    corr = portfolio_corr(portfolio, ticker, M)\n",
    "    year_var = annual_variance(ticker, price_df)[2017]\n",
    "    expected_return = annual_expected_return(ticker, price_df)\n",
    "    expected_return = (expected_return[2017] - expected_return[2016]) / expected_return[2016]\n",
    "    X[ticker] = [corr, year_var ** (1/2)]\n",
    "    Y[ticker] = [expected_return, year_var ** (1/2)]\n",
    "data_df = pd.DataFrame(X)\n",
    "nxt_data_df = pd.DataFrame(Y)"
   ]
  },
  {
   "cell_type": "code",
   "execution_count": 63,
   "metadata": {},
   "outputs": [
    {
     "data": {
      "text/plain": [
       "year\n",
       "2004     3.759715\n",
       "2005     9.410574\n",
       "2006     7.581906\n",
       "2007     5.296434\n",
       "2008     6.555426\n",
       "2009    16.554360\n",
       "2010     7.640215\n",
       "2011     6.826904\n",
       "2012    18.323205\n",
       "2013     2.692020\n",
       "2014     5.649396\n",
       "2015     6.952215\n",
       "2016     4.917740\n",
       "2017    13.119075\n",
       "Name: ABT, dtype: float64"
      ]
     },
     "execution_count": 63,
     "metadata": {},
     "output_type": "execute_result"
    }
   ],
   "source": [
    "annual_variance(\"ABT\", price_df)"
   ]
  },
  {
   "cell_type": "code",
   "execution_count": 98,
   "metadata": {},
   "outputs": [
    {
     "name": "stdout",
     "output_type": "stream",
     "text": [
      "year\n",
      "2004    42.356151\n",
      "2005    45.370000\n",
      "2006    45.028390\n",
      "2007    54.419323\n",
      "2008    55.162451\n",
      "2009    48.428770\n",
      "2010    50.732024\n",
      "2011    51.065595\n",
      "2012    62.759160\n",
      "2013    35.654008\n",
      "2014    40.959246\n",
      "2015    46.306270\n",
      "2016    40.494643\n",
      "2017    46.405208\n",
      "Name: ABT, dtype: float64\n"
     ]
    }
   ],
   "source": [
    "annual_expected_return(\"ABT\", price_df)"
   ]
  },
  {
   "cell_type": "code",
   "execution_count": 108,
   "metadata": {},
   "outputs": [],
   "source": [
    "X = []\n",
    "for key in nxt_data_df:\n",
    "    X.append(np.array(nxt_data_df[key]))\n",
    "X = np.array(X)\n",
    "U, s, V = np.linalg.svd(X, full_matrices=True)"
   ]
  },
  {
   "cell_type": "code",
   "execution_count": 120,
   "metadata": {},
   "outputs": [
    {
     "data": {
      "text/plain": [
       "array([[ 0.00622718,  0.99998061],\n",
       "       [ 0.99998061, -0.00622718]])"
      ]
     },
     "execution_count": 120,
     "metadata": {},
     "output_type": "execute_result"
    }
   ],
   "source": []
  },
  {
   "cell_type": "code",
   "execution_count": 90,
   "metadata": {},
   "outputs": [
    {
     "data": {
      "text/html": [
       "<div>\n",
       "<style>\n",
       "    .dataframe thead tr:only-child th {\n",
       "        text-align: right;\n",
       "    }\n",
       "\n",
       "    .dataframe thead th {\n",
       "        text-align: left;\n",
       "    }\n",
       "\n",
       "    .dataframe tbody tr th {\n",
       "        vertical-align: top;\n",
       "    }\n",
       "</style>\n",
       "<table border=\"1\" class=\"dataframe\">\n",
       "  <thead>\n",
       "    <tr style=\"text-align: right;\">\n",
       "      <th></th>\n",
       "      <th>corr</th>\n",
       "      <th>sigma</th>\n",
       "    </tr>\n",
       "  </thead>\n",
       "  <tbody>\n",
       "    <tr>\n",
       "      <th>A</th>\n",
       "      <td>0.169228</td>\n",
       "      <td>5.502800</td>\n",
       "    </tr>\n",
       "    <tr>\n",
       "      <th>AAL</th>\n",
       "      <td>0.328019</td>\n",
       "      <td>3.064794</td>\n",
       "    </tr>\n",
       "    <tr>\n",
       "      <th>AAP</th>\n",
       "      <td>-0.101196</td>\n",
       "      <td>26.146295</td>\n",
       "    </tr>\n",
       "    <tr>\n",
       "      <th>AAPL</th>\n",
       "      <td>-0.228266</td>\n",
       "      <td>11.899887</td>\n",
       "    </tr>\n",
       "    <tr>\n",
       "      <th>ABBV</th>\n",
       "      <td>0.673492</td>\n",
       "      <td>7.603870</td>\n",
       "    </tr>\n",
       "  </tbody>\n",
       "</table>\n",
       "</div>"
      ],
      "text/plain": [
       "          corr      sigma\n",
       "A     0.169228   5.502800\n",
       "AAL   0.328019   3.064794\n",
       "AAP  -0.101196  26.146295\n",
       "AAPL -0.228266  11.899887\n",
       "ABBV  0.673492   7.603870"
      ]
     },
     "execution_count": 90,
     "metadata": {},
     "output_type": "execute_result"
    }
   ],
   "source": [
    "plot_df = pd.DataFrame({'corr': data_df.iloc[0], 'sigma': data_df.iloc[1]})\n",
    "plot_df.head()"
   ]
  },
  {
   "cell_type": "code",
   "execution_count": 94,
   "metadata": {},
   "outputs": [
    {
     "data": {
      "text/html": [
       "<div>\n",
       "<style>\n",
       "    .dataframe thead tr:only-child th {\n",
       "        text-align: right;\n",
       "    }\n",
       "\n",
       "    .dataframe thead th {\n",
       "        text-align: left;\n",
       "    }\n",
       "\n",
       "    .dataframe tbody tr th {\n",
       "        vertical-align: top;\n",
       "    }\n",
       "</style>\n",
       "<table border=\"1\" class=\"dataframe\">\n",
       "  <thead>\n",
       "    <tr style=\"text-align: right;\">\n",
       "      <th></th>\n",
       "      <th>corr</th>\n",
       "      <th>sigma</th>\n",
       "    </tr>\n",
       "  </thead>\n",
       "  <tbody>\n",
       "    <tr>\n",
       "      <th>corr</th>\n",
       "      <td>1.00000</td>\n",
       "      <td>0.11704</td>\n",
       "    </tr>\n",
       "    <tr>\n",
       "      <th>sigma</th>\n",
       "      <td>0.11704</td>\n",
       "      <td>1.00000</td>\n",
       "    </tr>\n",
       "  </tbody>\n",
       "</table>\n",
       "</div>"
      ],
      "text/plain": [
       "          corr    sigma\n",
       "corr   1.00000  0.11704\n",
       "sigma  0.11704  1.00000"
      ]
     },
     "execution_count": 94,
     "metadata": {},
     "output_type": "execute_result"
    }
   ],
   "source": [
    "plot_df.corr()"
   ]
  },
  {
   "cell_type": "code",
   "execution_count": 95,
   "metadata": {},
   "outputs": [
    {
     "data": {
      "image/png": "[encoded data removed]",
      "text/plain": [
       "<matplotlib.figure.Figure at 0x10aef0ac8>"
      ]
     },
     "metadata": {},
     "output_type": "display_data"
    }
   ],
   "source": [
    "plot_df.plot(kind='scatter', x='corr', y='sigma')\n",
    "plt.show()"
   ]
  },
  {
   "cell_type": "code",
   "execution_count": null,
   "metadata": {
    "collapsed": true
   },
   "outputs": [],
   "source": [
    "    "
   ]
  },
  {
   "cell_type": "code",
   "execution_count": null,
   "metadata": {
    "collapsed": true
   },
   "outputs": [],
   "source": []
  }
 ],
 "metadata": {
  "kernelspec": {
   "display_name": "Python 3",
   "language": "python",
   "name": "python3"
  },
  "language_info": {
   "codemirror_mode": {
    "name": "ipython",
    "version": 3
   },
   "file_extension": ".py",
   "mimetype": "text/x-python",
   "name": "python",
   "nbconvert_exporter": "python",
   "pygments_lexer": "ipython3",
   "version": "3.6.1"
  }
 },
 "nbformat": 4,
 "nbformat_minor": 2
}
