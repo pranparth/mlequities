{
 "cells": [
  {
   "cell_type": "code",
   "execution_count": 15,
   "metadata": {
    "collapsed": true
   },
   "outputs": [],
   "source": [
    "#===================================================\n",
    "#\n",
    "# variance.py: Defines functions to compute variance \n",
    "#              of a single stock or a list of stocks\n",
    "#\n",
    "# Original: Vedaad Shakib (10/03/17)\n",
    "#===================================================\n",
    "\n",
    "import numpy as np \n",
    "import pandas as pd\n",
    "from IPython.core.display import display\n",
    "from datetime import datetime \n",
    "%run 'utils.ipynb'"
   ]
  },
  {
   "cell_type": "code",
   "execution_count": 11,
   "metadata": {
    "collapsed": true
   },
   "outputs": [],
   "source": [
    "def variance(name, df, start=\"2010-01-01\", end=\"2016-12-30\"):\n",
    "    '''\n",
    "    Returns the variance for a stock between the dates start and end (exclusive).\n",
    "    Start and end are strings in the format YYYY-MM-DD.\n",
    "    '''\n",
    "    return variance_n_day(name, df, 1, start, end)\n",
    "\n",
    "def variance_n_day(name, df, n, start=\"2010-01-01\", end=\"2016-12-30\"):\n",
    "    '''\n",
    "    Returns the variance for a stock using returns for every n days between the dates start and end (exclusive)\n",
    "    Start and end are strings in the format YYYY-MM-DD.\n",
    "    '''\n",
    "    n = n-int(n/7)*2 # stock market doesn't operate on the weekends, so remove 2 for each 7 days\n",
    "    if type(name) == str:\n",
    "        df_stock = stock(name, start, end)\n",
    "        df_stock = df_stock.loc[::n]\n",
    "\n",
    "        mean = df_stock.loc[:, ['open']].sum()/len(df_stock.index)\n",
    "        variance = (df_stock.loc[:, ['open']]-mean)**2\n",
    "\n",
    "        return float(variance.sum()/len(variance.index))\n",
    "    else: # assuming type = list\n",
    "        var = []\n",
    "        for i in name:\n",
    "            var.append(variance_n_day(i, df, n, start, end)) # add individual variances\n",
    "        return var"
   ]
  },
  {
   "cell_type": "code",
   "execution_count": null,
   "metadata": {
    "collapsed": true
   },
   "outputs": [],
   "source": []
  }
 ],
 "metadata": {
  "kernelspec": {
   "display_name": "Python 3",
   "language": "python",
   "name": "python3"
  },
  "language_info": {
   "codemirror_mode": {
    "name": "ipython",
    "version": 3
   },
   "file_extension": ".py",
   "mimetype": "text/x-python",
   "name": "python",
   "nbconvert_exporter": "python",
   "pygments_lexer": "ipython3",
   "version": "3.6.1"
  }
 },
 "nbformat": 4,
 "nbformat_minor": 2
}
