{
 "cells": [
  {
   "cell_type": "code",
   "execution_count": null,
   "metadata": {},
   "outputs": [
    {
     "data": {
      "text/html": [
       "<div>\n",
       "<style>\n",
       "    .dataframe thead tr:only-child th {\n",
       "        text-align: right;\n",
       "    }\n",
       "\n",
       "    .dataframe thead th {\n",
       "        text-align: left;\n",
       "    }\n",
       "\n",
       "    .dataframe tbody tr th {\n",
       "        vertical-align: top;\n",
       "    }\n",
       "</style>\n",
       "<table border=\"1\" class=\"dataframe\">\n",
       "  <thead>\n",
       "    <tr style=\"text-align: right;\">\n",
       "      <th></th>\n",
       "      <th>symbol</th>\n",
       "      <th>high</th>\n",
       "      <th>low</th>\n",
       "    </tr>\n",
       "  </thead>\n",
       "  <tbody>\n",
       "    <tr>\n",
       "      <th>0</th>\n",
       "      <td>WLTW</td>\n",
       "      <td>132.770004</td>\n",
       "      <td>107.129997</td>\n",
       "    </tr>\n",
       "    <tr>\n",
       "      <th>1</th>\n",
       "      <td>A</td>\n",
       "      <td>48.439999</td>\n",
       "      <td>34.799999</td>\n",
       "    </tr>\n",
       "    <tr>\n",
       "      <th>2</th>\n",
       "      <td>AAL</td>\n",
       "      <td>49.639999</td>\n",
       "      <td>25.270000</td>\n",
       "    </tr>\n",
       "    <tr>\n",
       "      <th>3</th>\n",
       "      <td>AAP</td>\n",
       "      <td>176.779999</td>\n",
       "      <td>136.190002</td>\n",
       "    </tr>\n",
       "    <tr>\n",
       "      <th>4</th>\n",
       "      <td>AAPL</td>\n",
       "      <td>118.250000</td>\n",
       "      <td>90.339996</td>\n",
       "    </tr>\n",
       "  </tbody>\n",
       "</table>\n",
       "</div>"
      ],
      "text/plain": [
       "  symbol        high         low\n",
       "0   WLTW  132.770004  107.129997\n",
       "1      A   48.439999   34.799999\n",
       "2    AAL   49.639999   25.270000\n",
       "3    AAP  176.779999  136.190002\n",
       "4   AAPL  118.250000   90.339996"
      ]
     },
     "execution_count": 66,
     "metadata": {},
     "output_type": "execute_result"
    }
   ],
   "source": [
    "#===================================================\n",
    "#\n",
    "# 52WeekRatio.ipynb: Return 52 Week High/Low\n",
    "#\n",
    "# Author: Shubhrakanti Ganguly\n",
    "#===================================================\n",
    "\n",
    "import pandas as pd\n",
    "\n",
    "#Get the csv into a dataframe and trun the 'date' column into a pandas dateTime object so we can work with it easily\n",
    "df = pd.read_csv(\"prices-split-adjusted.csv\")\n",
    "df['date'] = pd.to_datetime(df.date)\n",
    "\n",
    "#Keep only the data from 2016 (we only need 1 years worth of data)\n",
    "mask = (df['date'] > '2015-12-31')\n",
    "df = df.loc[mask]\n",
    "\n",
    "\n",
    "#Keep only the high and low and merge it all into one final data frame\n",
    "s1 = df.groupby(['symbol'], sort=False)['close'].max()\n",
    "s2 = df.groupby(['symbol'], sort=False)['close'].min()\n",
    "final = pd.concat([s1, s2], axis=1).reset_index()\n",
    "final.columns = ['symbol','high','low']\n",
    "\n",
    "final.head()"
   ]
  },
  {
   "cell_type": "code",
   "execution_count": 69,
   "metadata": {},
   "outputs": [
    {
     "data": {
      "text/plain": [
       "1.3089440473298228"
      ]
     },
     "execution_count": 69,
     "metadata": {},
     "output_type": "execute_result"
    }
   ],
   "source": [
    "def get_52_week_ratio(ticker, high=None, low=None):\n",
    "    \n",
    "    #User didn't give prices so I have to find it from my list of stocks\n",
    "    if not high or not low:\n",
    "        \n",
    "        #If you give me a stock I don't have data for and you don't provide data, fuck you \n",
    "        assert ticker in final.symbol.values, \"Please provide 52 week a high and low\"\n",
    "        \n",
    "        #Fetch the data for the particular stock \n",
    "        data = final.loc[final[\"symbol\"] == ticker]\n",
    "        return data[\"high\"].values[0]/data[\"low\"].values[0]\n",
    "    else:\n",
    "        #Give you ratio using your data\n",
    "        assert low != 0, \"Can't divide by 0\"\n",
    "        return high/low\n",
    "\n",
    "get_52_week_ratio(\"AAPL\")"
   ]
  },
  {
   "cell_type": "code",
   "execution_count": null,
   "metadata": {
    "collapsed": true
   },
   "outputs": [],
   "source": []
  }
 ],
 "metadata": {
  "kernelspec": {
   "display_name": "Python 3",
   "language": "python",
   "name": "python3"
  },
  "language_info": {
   "codemirror_mode": {
    "name": "ipython",
    "version": 3
   },
   "file_extension": ".py",
   "mimetype": "text/x-python",
   "name": "python",
   "nbconvert_exporter": "python",
   "pygments_lexer": "ipython3",
   "version": "3.6.1"
  }
 },
 "nbformat": 4,
 "nbformat_minor": 2
}
